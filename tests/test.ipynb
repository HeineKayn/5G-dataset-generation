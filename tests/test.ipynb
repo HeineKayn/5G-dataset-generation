{
 "cells": [
  {
   "cell_type": "code",
   "execution_count": 1,
   "metadata": {},
   "outputs": [],
   "source": [
    "import httpx\n",
    "\n",
    "proxy = \"socks5://127.0.0.1:1080\"\n",
    "\n",
    "def request_cn(nf,data,method,uri=\"\",headers={},token=\"\",display=True):\n",
    "\n",
    "    url = \"http://192.168.70.130:8080\" + uri\n",
    "\n",
    "    base_headers = {\n",
    "        # \"Content-Type\": \"application/json\", # géré tout seul par .post .get et le fait de mettre data= ou json=\n",
    "        \"Accept\": \"*/*\",\n",
    "        \"Accept-Encoding\": \"gzip, deflate, br\",\n",
    "        \"Connection\": \"keep-alive\",\n",
    "        \"Authorization\": f\"Bearer {token}\"  # Ajout de l'en-tête d'autorisation\n",
    "    }\n",
    "\n",
    "    base_headers.update(headers)\n",
    "    method = method.upper()\n",
    "\n",
    "    with httpx.Client(http1=False,http2=True, verify=False, proxy=proxy) as client:\n",
    "\n",
    "        if method == \"POST\":\n",
    "            response = client.request(method, url, data=data, headers=base_headers)\n",
    "        else :\n",
    "            response = client.request(method, url, json=data, headers=base_headers)\n",
    "\n",
    "    try    : result = response.json()\n",
    "    except : result = response.text\n",
    "\n",
    "    # Afficher la réponse\n",
    "    if display : \n",
    "        print(f\"Request {method} {url}\")\n",
    "        if headers : print(f\"-> Headers : {headers}\")\n",
    "        if data    : print(f\"-> Body : {data}\")\n",
    "        print(f\"-> Status Code {response.status_code}\")\n",
    "        print(result)\n",
    "\n",
    "    return response.status_code, result"
   ]
  },
  {
   "cell_type": "code",
   "execution_count": 4,
   "metadata": {},
   "outputs": [
    {
     "name": "stdout",
     "output_type": "stream",
     "text": [
      "Request GET http://192.168.70.130:8080\n",
      "-> Status Code 404\n",
      "<!DOCTYPE html><html lang=\"en\"><title>404 Not Found</title><body><h1>404 Not Found</h1></body></html>\n"
     ]
    },
    {
     "data": {
      "text/plain": [
       "(404,\n",
       " '<!DOCTYPE html><html lang=\"en\"><title>404 Not Found</title><body><h1>404 Not Found</h1></body></html>')"
      ]
     },
     "execution_count": 4,
     "metadata": {},
     "output_type": "execute_result"
    }
   ],
   "source": [
    "request_cn(\"\",{},\"GET\")"
   ]
  },
  {
   "cell_type": "code",
   "execution_count": null,
   "metadata": {},
   "outputs": [],
   "source": []
  }
 ],
 "metadata": {
  "kernelspec": {
   "display_name": "Python 3",
   "language": "python",
   "name": "python3"
  },
  "language_info": {
   "codemirror_mode": {
    "name": "ipython",
    "version": 3
   },
   "file_extension": ".py",
   "mimetype": "text/x-python",
   "name": "python",
   "nbconvert_exporter": "python",
   "pygments_lexer": "ipython3",
   "version": "3.12.0"
  }
 },
 "nbformat": 4,
 "nbformat_minor": 2
}
